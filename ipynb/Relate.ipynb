{
 "metadata": {
  "name": ""
 },
 "nbformat": 3,
 "nbformat_minor": 0,
 "worksheets": [
  {
   "cells": [
    {
     "cell_type": "markdown",
     "metadata": {},
     "source": [
      "Title: Relate: The Missing Container\n",
      "Author: Scott James\n",
      "           James Larkin\n",
      "Date: 2015-7-5\n",
      "Conference: SciPy 2015\n",
      "-------------------------------------------"
     ]
    },
    {
     "cell_type": "markdown",
     "metadata": {},
     "source": [
      "# Relation: The Missing Container"
     ]
    },
    {
     "cell_type": "code",
     "collapsed": false,
     "input": [
      "from relate import Relation, Isomorphism"
     ],
     "language": "python",
     "metadata": {},
     "outputs": [],
     "prompt_number": 1
    },
    {
     "cell_type": "markdown",
     "metadata": {},
     "source": [
      "\n",
      "## Abstract\n",
      "\n",
      "The humble mathematical relation, a fundamental (if implicit) component in computational algorithms, is conspicuously absent in most standard software container sets, including Python's. We present the many uses of the relation and how you can use it to simplify your own coding.\n",
      "\n",
      "## Overview\n",
      "\n",
      "A mathematical [relation](#relation) when directly integrated into software can perform a variety of common tasks:\n",
      "\n",
      "Inversion\n",
      ": quickly find the values(range) associated with a key(domain)\n",
      "\n",
      "Aliasing\n",
      ": maintain a unique relationship between keys and values\n",
      "\n",
      "Partitioning\n",
      ": categorize values into unique groups\n",
      "\n",
      "Tagging\n",
      ": associate two sets in an arbitrary(bipartite) manner\n",
      "\n",
      "For *larger more robust programming* needs, where the data is:\n",
      "\n",
      "- well-structured\n",
      "- vectorized\n",
      "- large enough to be concerned about performance/storage\n",
      "\n",
      "Existing computational [compute-library](#compute-library) and relational [relate-library](#relate-library) libraries can perform the above tasks, and do so very well at scale.  However for *smaller basic* programming needs, when the data is:\n",
      "\n",
      " - loosely structured or unstructured\n",
      " - transient\n",
      " - in no real danger of overloading memory or affecting performance\n",
      "\n",
      "We tend to cobble together the basic containers we already have.  This results in an ad hoc approach to each data structure, repeated code snippets, and potentially increased errors.   This is unnecessary.\n",
      "\n",
      "Using a basic relation coding contrainer we can:\n",
      "\n",
      "- reduce coding overhead\n",
      "- increase clarity of purpose\n",
      "- improve computational efficiency\n",
      "\n",
      "## Example 1"
     ]
    },
    {
     "cell_type": "code",
     "collapsed": false,
     "input": [
      "fruit = Relation()\n",
      "fruit['apple']='round'\n",
      "fruit['pear']='yellow'\n",
      "fruit['banana']='yellow'\n",
      "fruit['banana']='crescent'"
     ],
     "language": "python",
     "metadata": {},
     "outputs": [],
     "prompt_number": 2
    },
    {
     "cell_type": "code",
     "collapsed": false,
     "input": [
      "fruit['banana']"
     ],
     "language": "python",
     "metadata": {},
     "outputs": [
      {
       "metadata": {},
       "output_type": "pyout",
       "prompt_number": 3,
       "text": [
        "{'crescent', 'yellow'}"
       ]
      }
     ],
     "prompt_number": 3
    },
    {
     "cell_type": "code",
     "collapsed": false,
     "input": [
      "(~fruit)['yellow']"
     ],
     "language": "python",
     "metadata": {},
     "outputs": [
      {
       "metadata": {},
       "output_type": "pyout",
       "prompt_number": 4,
       "text": [
        "{'banana', 'pear'}"
       ]
      }
     ],
     "prompt_number": 4
    },
    {
     "cell_type": "markdown",
     "metadata": {},
     "source": [
      "## Cardinality\n",
      "\n",
      "Relations provide the ability to\n",
      "\n",
      "- assign many-to-many values\n",
      "- invert the mapping\n",
      "\n",
      "Relations become even more valuable when we have the ability to enforce the degree of relationship, i.e. cardinality.  There are four cardinalities of relationship:\n",
      "\n",
      "| Relationship | Shortcut | Pseudonyms|\n",
      "| --- | --- | --- |\n",
      "| many-to-one | M:1| function, mapping, assignment |\n",
      "| one-to-many | 1:M | partition |\n",
      "| one-to-one | 1:1 | aliasing, isomorphism, invertible function |\n",
      "| many-to-many | M:N | general relation |\n",
      "\n",
      "Assignment (M:1) is already supported [no-inversion](#no-inversion) by Python's built-in dictionaries and lists; However the remainder of the cardinalities are not [bidict](#bidict).\n",
      "\n",
      "## Example 2"
     ]
    },
    {
     "cell_type": "code",
     "collapsed": false,
     "input": [
      "people = Relation(cardinality='1:1')\n",
      "people['Fred'] = '111-00-6379'\n",
      "people['Wilma'] = '222-00-7891'\n",
      "people['Barney'] = '111-00-6379'"
     ],
     "language": "python",
     "metadata": {},
     "outputs": [],
     "prompt_number": 6
    },
    {
     "cell_type": "markdown",
     "metadata": {},
     "source": [
      "When the relation is forced to be an isomorphism, the results are no longer sets:"
     ]
    },
    {
     "cell_type": "code",
     "collapsed": false,
     "input": [
      "people['Barney']"
     ],
     "language": "python",
     "metadata": {},
     "outputs": [
      {
       "metadata": {},
       "output_type": "pyout",
       "prompt_number": 7,
       "text": [
        "'111-00-6379'"
       ]
      }
     ],
     "prompt_number": 7
    },
    {
     "cell_type": "code",
     "collapsed": false,
     "input": [
      "try:\n",
      "    people['Fred']\n",
      "except:\n",
      "    print('No more Fred')"
     ],
     "language": "python",
     "metadata": {},
     "outputs": [
      {
       "output_type": "stream",
       "stream": "stdout",
       "text": [
        "No more Fred\n"
       ]
      }
     ],
     "prompt_number": 8
    },
    {
     "cell_type": "code",
     "collapsed": false,
     "input": [
      "people = Isomorphism({'Barney':'111-00-6379','Wilma':'222-00-7891'})\n",
      "people['Barney']"
     ],
     "language": "python",
     "metadata": {},
     "outputs": [
      {
       "metadata": {},
       "output_type": "pyout",
       "prompt_number": 9,
       "text": [
        "'111-00-6379'"
       ]
      }
     ],
     "prompt_number": 9
    },
    {
     "cell_type": "code",
     "collapsed": false,
     "input": [
      "people = Isomorphism(ordered=True)\n",
      "people['Wilma'] = '222-00-7891'\n",
      "people['Barney'] = '111-00-6379'\n",
      "list(people.keys())"
     ],
     "language": "python",
     "metadata": {},
     "outputs": [
      {
       "metadata": {},
       "output_type": "pyout",
       "prompt_number": 10,
       "text": [
        "['Wilma', 'Barney']"
       ]
      }
     ],
     "prompt_number": 10
    },
    {
     "cell_type": "markdown",
     "metadata": {},
     "source": [
      "## More Examples\n",
      "\n",
      "The relation is a very basic concept, and as such useful in countless situations. Still, a few more example are worth mentioning.\n",
      "\n",
      "### Tags\n",
      "\n",
      "Over the last decade we've seen *tags* invade our previously hierarchical organized data.  Tags are now ubiquitous, filtering our URLs in our bookmarking services,  our website news articles, and todo list in our productivity apps.\n",
      "\n",
      "Tags are also exactly an M:N relationship:"
     ]
    },
    {
     "cell_type": "code",
     "collapsed": false,
     "input": [
      "files = Relation()\n",
      "\n",
      "files['vacation-yellowstone.png'] = 'image'\n",
      "files['vacation-yellowstone.png'] = 'family'\n",
      "files['obnoxious-cat.jpeg'] = 'image'\n",
      "files['vacation-planning.doc'] = 'family'\n",
      "files['vacation-planning.doc'] = 2015"
     ],
     "language": "python",
     "metadata": {},
     "outputs": [],
     "prompt_number": 11
    },
    {
     "cell_type": "code",
     "collapsed": false,
     "input": [
      "(~files)['family']"
     ],
     "language": "python",
     "metadata": {},
     "outputs": [
      {
       "metadata": {},
       "output_type": "pyout",
       "prompt_number": 12,
       "text": [
        "{'vacation-planning.doc', 'vacation-yellowstone.png'}"
       ]
      }
     ],
     "prompt_number": 12
    },
    {
     "cell_type": "code",
     "collapsed": false,
     "input": [
      "files['vacation-planning.doc']"
     ],
     "language": "python",
     "metadata": {},
     "outputs": [
      {
       "metadata": {},
       "output_type": "pyout",
       "prompt_number": 13,
       "text": [
        "{2015, 'family'}"
       ]
      }
     ],
     "prompt_number": 13
    },
    {
     "cell_type": "markdown",
     "metadata": {},
     "source": [
      "### Taxonomies\n",
      "\n",
      "Nesting partition (1:M) relations creates a backward-searchable \n",
      "taxonomy:"
     ]
    },
    {
     "cell_type": "code",
     "collapsed": false,
     "input": [
      "animals=Relation(cardinality='1:M')\n",
      "animals['Mammal'] = 'Carnivore'\n",
      "animals['Mammal'] = 'Monotreme'\n",
      "animals['Monotreme'] = 'Duckbill Platypus'\n",
      "animals['Monotreme'] = 'Spiny Anteater'\n",
      "animals['Carnivore'] = 'Canine'\n",
      "animals['Carnivore'] = 'Feline'\n",
      "animals['Canine'] = 'Poodle'\n",
      "animals['Canine'] = 'Labrador Retriever'\n",
      "animals['Feline'] = 'Cat'"
     ],
     "language": "python",
     "metadata": {},
     "outputs": [],
     "prompt_number": 15
    },
    {
     "cell_type": "code",
     "collapsed": false,
     "input": [
      "(~animals)['Poodle']"
     ],
     "language": "python",
     "metadata": {},
     "outputs": [
      {
       "metadata": {},
       "output_type": "pyout",
       "prompt_number": 16,
       "text": [
        "'Canine'"
       ]
      }
     ],
     "prompt_number": 16
    },
    {
     "cell_type": "code",
     "collapsed": false,
     "input": [
      "(~animals)[(~animals)['Poodle']]"
     ],
     "language": "python",
     "metadata": {},
     "outputs": [
      {
       "metadata": {},
       "output_type": "pyout",
       "prompt_number": 17,
       "text": [
        "'Carnivore'"
       ]
      }
     ],
     "prompt_number": 17
    },
    {
     "cell_type": "code",
     "collapsed": false,
     "input": [
      "(~animals)[(~animals)[(~animals)['Poodle']]]"
     ],
     "language": "python",
     "metadata": {},
     "outputs": [
      {
       "metadata": {},
       "output_type": "pyout",
       "prompt_number": 18,
       "text": [
        "'Mammal'"
       ]
      }
     ],
     "prompt_number": 18
    },
    {
     "cell_type": "markdown",
     "metadata": {},
     "source": [
      "## When to Use What for What\n",
      "\n",
      "Modern high-level computing languages provide us with a wealth of containers.  We feel, of course, that a relation container is a valuable addition  but we also feel one should use the most economical and obvious container for the task.  Asking questions about the type of data being stored and the relationship between an element and its attributes is crucial:\n",
      "\n",
      "| Structure | What to Use |\n",
      "| --- | --- |\n",
      "| unordered set of unique objects | set |\n",
      "| ordered set of non-unique objects | list |\n",
      "| ordered set of unique objects | OrderedDict |\n",
      "| unidirectional mapping | dictionary |\n",
      "| mapping with inversion | relation |\n",
      "| mapping with cardinality restrictions | relation |\n",
      "| multiple, fixed attributes per element | data frame/table  |\n",
      "| multiple, variant attributes per element | relation  |\n",
      "\n",
      "## Implementing the Relation Data Continator in Python\n",
      "\n",
      "One of the best things about the relation data continator is it easy to implement within the Python language. With only about 115 lines of code and using only standard Python libraies we have already created this new data continator in Python.  See <https://pypi.python.org/pypi/relate> for an implementation and more information.\n",
      "\n",
      "## Conclusion\n",
      "\n",
      "The relation provides an easy-to-use invertible mapping structure supporting all four relationship cardinalities.  Using a relation can simplify your code and eliminate the need for repeated, ad hoc patterns when managing your smaller more basic programming needs."
     ]
    },
    {
     "cell_type": "markdown",
     "metadata": {},
     "source": [
      "## References\n",
      "\n",
      "<a id=\"compute-library\">compute-library: </a>numpy, pandas, etc...\n",
      "\n",
      "<a id=\"relate-library\">relate-library: </a>sqlite, postgress, etc...\n",
      "\n",
      "<a id=\"no-inversion\">no-inversion: </a> However, dictionaries do *not* have have the invertibility provide by a relation\n",
      "\n",
      "<a id=\"relation\">relation: </a> <http://simple.wikipedia.org/wiki/Relation_(mathematics)>\n",
      "\n",
      "<a id=\"bidict\">bidict: </a> For 1:1 mapping, however we also recommend the excellent bidict package <https://bidict.readthedocs.org/en/master/intro.html#intro>\n",
      "\n"
     ]
    },
    {
     "cell_type": "code",
     "collapsed": false,
     "input": [],
     "language": "python",
     "metadata": {},
     "outputs": []
    },
    {
     "cell_type": "code",
     "collapsed": false,
     "input": [],
     "language": "python",
     "metadata": {},
     "outputs": []
    }
   ],
   "metadata": {}
  }
 ]
}